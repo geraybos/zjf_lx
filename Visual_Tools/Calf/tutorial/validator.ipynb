{
 "cells": [
  {
   "cell_type": "markdown",
   "metadata": {
    "collapsed": true
   },
   "source": [
    "# 关于Validator的使用教程"
   ]
  },
  {
   "cell_type": "markdown",
   "metadata": {},
   "source": [
    "## 1.一些必要的准备工作\n",
    "     我们首先从基于A股复权后日线的MACD模型开始。"
   ]
  },
  {
   "cell_type": "code",
   "execution_count": 1,
   "metadata": {},
   "outputs": [
    {
     "name": "stdout",
     "output_type": "stream",
     "text": [
      "default db: ppp have connected successfully\n"
     ]
    }
   ],
   "source": [
    "# 准备好用于在回测过程中的k线读取工具，可以通过klinedata.read_data读取k线数据\n",
    "# 这里值得注意的是：我们对日内周期的K线是的日期格式处理方式，\n",
    "from QS.Calf import klinedata"
   ]
  },
  {
   "cell_type": "code",
   "execution_count": 1,
   "metadata": {},
   "outputs": [
    {
     "name": "stdout",
     "output_type": "stream",
     "text": [
      "default db: ppp have connected successfully\n"
     ]
    }
   ],
   "source": [
    "# 通过模型自有的IO工具读取用于验证的信号集\n",
    "from QS.Macd import macddata as md\n",
    "data = md.get_traitors(category='day_XDXR', dist=-70)"
   ]
  },
  {
   "cell_type": "code",
   "execution_count": 3,
   "metadata": {},
   "outputs": [],
   "source": [
    "# 其他一些自定义的内容，下以MACD模型为例\n",
    "import datetime as dt\n",
    "import pandas as pd\n",
    "import numpy as np\n",
    "data = data[((data.c_mark == False) & (data.rate < 1.03))]\n",
    "data = data[(data.lcd2 < 0) & (data.lcd1 > 0)]\n",
    "data = data[data.date > dt.datetime(2017, 1, 1)]\n",
    "data['confidence'] = pd.eval('(data.last_max_area / data.max_area) * (data.last_max_macd / data.max_macd)')\n",
    "data['confidence'] = np.log(data['confidence'])\n",
    "data = data[data.confidence <= 7]"
   ]
  },
  {
   "cell_type": "markdown",
   "metadata": {},
   "source": [
    "用于回测验证的信号片集已经准备就绪，它就是一个包含'code', 'type', 'open_price', 'open_date', 'confidence'字段的DataFrame"
   ]
  },
  {
   "cell_type": "markdown",
   "metadata": {},
   "source": [
    "用于回测验证的信号片集已经准备就绪，它就是一个包含'code', 'type', 'open_price', 'open_date', 'confidence'字段的DataFrame"
   ]
  },
  {
   "cell_type": "markdown",
   "metadata": {},
   "source": [
    "## 2.初始化验证器"
   ]
  },
  {
   "cell_type": "code",
   "execution_count": 4,
   "metadata": {},
   "outputs": [],
   "source": [
    "# 引入验证器对象，由于MACD模型完全适用于modelvalidator类提供的原始回测方案\n",
    "# 所以这里我们不需要继承modelvalidator再重写它的某些方法\n",
    "from QS.Calf import modelvalidator as mv\n",
    "sd = dt.datetime(2017, 1, 1)\n",
    "ed = dt.datetime(2018, 1, 1)\n",
    "# 初始化验证器，有关参数的说明，可以参考源代码\n",
    "mv.VerifyFrame(data, 'XDXR_day', klinedata.read_data, sd, ed)"
   ]
  },
  {
   "cell_type": "markdown",
   "metadata": {},
   "source": [
    "## 3.配置回测参数"
   ]
  },
  {
   "cell_type": "code",
   "execution_count": 5,
   "metadata": {},
   "outputs": [],
   "source": [
    "# 关于各个参数的含义，可以参见modelvalidator的源代码\n",
    "mv.modelparammodify(stop_get=0.07, stop_loss=0.05, max_pst_days=4, max_position=2)"
   ]
  },
  {
   "cell_type": "markdown",
   "metadata": {},
   "source": [
    "## 4.执行验证"
   ]
  },
  {
   "cell_type": "code",
   "execution_count": 6,
   "metadata": {},
   "outputs": [],
   "source": [
    "# 验证日内的信号时调用的方法是verify_min()\n",
    "# 验证日线的信号时调用的方法是verify_day()\n",
    "# 不考虑交易策略时调用的方法是verify_all()\n",
    "# 使用上述方法其他步骤都是一样的\n",
    "# 开始验证\n",
    "dit, menu, goods = mv.verify_day()\n",
    "# dit是一个关于本次回测的量化评估，menu是一个描述以日计的收益率的df\n",
    "# goods是本次验证的交易清单"
   ]
  },
  {
   "cell_type": "markdown",
   "metadata": {},
   "source": [
    "## 5.特殊环境下的回测验证\n",
    "    这里所指的特殊环境是与中国A股交易规则不同的其他市场，比如外汇，美股等"
   ]
  },
  {
   "cell_type": "code",
   "execution_count": null,
   "metadata": {},
   "outputs": [],
   "source": [
    ""
   ]
  }
 ],
 "metadata": {
  "kernelspec": {
   "display_name": "Python 2",
   "language": "python",
   "name": "python2"
  },
  "language_info": {
   "codemirror_mode": {
    "name": "ipython",
    "version": 2.0
   },
   "file_extension": ".py",
   "mimetype": "text/x-python",
   "name": "python",
   "nbconvert_exporter": "python",
   "pygments_lexer": "ipython2",
   "version": "2.7.6"
  }
 },
 "nbformat": 4,
 "nbformat_minor": 0
}